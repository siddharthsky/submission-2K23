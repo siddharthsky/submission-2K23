{
 "cells": [
  {
   "cell_type": "markdown",
   "id": "fb737644-0121-4d41-8029-ea6753f72bad",
   "metadata": {},
   "source": [
    "Question 2: -\n",
    "Consider a string to be valid if all characters of the string appear the same number of times. It is also valid if\n",
    "he can remove just one character at the index in the string, and the remaining characters will occur the same\n",
    "number of times. Given a string, determine if it is valid. If so, return YES , otherwise return NO ."
   ]
  },
  {
   "cell_type": "markdown",
   "id": "a1edcdcb-a9ce-4c1e-acc4-8cfc35c76bce",
   "metadata": {},
   "source": [
    "Note - You have to write at least 2 additional test cases in which your program will run successfully and provide\n",
    "an explanation for the same.\n",
    "Example input 1 - s = “abc”. This is a valid string because frequencies are { “a”: 1, “b”: 1, “c”: 1 }\n",
    "Example output 1- YES\n",
    "Example input 2 - s “abcc”. This string is not valid as we can remove only 1 occurrence of “c”. That leaves\n",
    "character frequencies of { “a”: 1, “b”: 1 , “c”: 2 }\n",
    "Example output 2 - NO"
   ]
  },
  {
   "cell_type": "code",
   "execution_count": 158,
   "id": "72382ae2-8b90-4ad9-beb6-23269c4c9f00",
   "metadata": {},
   "outputs": [
    {
     "data": {
      "text/plain": [
       "'NO'"
      ]
     },
     "execution_count": 158,
     "metadata": {},
     "output_type": "execute_result"
    }
   ],
   "source": [
    "def valid_checker(string01):\n",
    "    split_char = list(string01)\n",
    "    dict01 = {}\n",
    "\n",
    "    #Check for character count\n",
    "    for i in split_char:\n",
    "        dict01[i]=split_char.count(i)\n",
    "\n",
    "    #Using set to find unique count\n",
    "    list01 = list(dict01.values())\n",
    "    set01 = sorted(set(list01))\n",
    "    #print(dict01)\n",
    "    \n",
    "    #If lenght of set is 1 then return \"YES\"\n",
    "    if len(set01) == 1:\n",
    "        return \"YES\"\n",
    "    #Else calculate differnce between unique count-(diff) and freq. of words(f1,f2)  \n",
    "    else:\n",
    "        dif = set01[0]-set01[1]\n",
    "        f1 = list01.count(set01[0])\n",
    "        f2 = list01.count(set01[1])\n",
    "        \n",
    "        \n",
    "    #final check \n",
    "    #if difference = -1 and count of unique values is not same then return \"YES\"\n",
    "    if dif==-1 and f1!=f2:\n",
    "        return \"YES\"\n",
    "    else:\n",
    "        return \"NO\"\n",
    "\n",
    "\n",
    "valid_checker(\"aabbcd\")"
   ]
  },
  {
   "cell_type": "code",
   "execution_count": 159,
   "id": "cfd53863-d25a-4e73-b537-477d48d65f34",
   "metadata": {},
   "outputs": [
    {
     "data": {
      "text/plain": [
       "'YES'"
      ]
     },
     "execution_count": 159,
     "metadata": {},
     "output_type": "execute_result"
    }
   ],
   "source": [
    "#Test 01\n",
    "valid_checker(\"aabbccttt\")"
   ]
  },
  {
   "cell_type": "code",
   "execution_count": 160,
   "id": "42727056-b4b5-416f-923c-4d4757d4363f",
   "metadata": {},
   "outputs": [
    {
     "data": {
      "text/plain": [
       "'NO'"
      ]
     },
     "execution_count": 160,
     "metadata": {},
     "output_type": "execute_result"
    }
   ],
   "source": [
    "#Test 02\n",
    "valid_checker(\"aabbccdddd\")"
   ]
  },
  {
   "cell_type": "code",
   "execution_count": 165,
   "id": "a12e4cae-5266-4b20-8f5b-29ef8c86b9c2",
   "metadata": {},
   "outputs": [
    {
     "data": {
      "text/plain": [
       "'YES'"
      ]
     },
     "execution_count": 165,
     "metadata": {},
     "output_type": "execute_result"
    }
   ],
   "source": [
    "#Test 03\n",
    "valid_checker(\"abcd\")"
   ]
  },
  {
   "cell_type": "code",
   "execution_count": null,
   "id": "e601c3bb-b2bc-4df3-b81a-56a31f973af2",
   "metadata": {},
   "outputs": [],
   "source": []
  }
 ],
 "metadata": {
  "kernelspec": {
   "display_name": "Python 3 (ipykernel)",
   "language": "python",
   "name": "python3"
  },
  "language_info": {
   "codemirror_mode": {
    "name": "ipython",
    "version": 3
   },
   "file_extension": ".py",
   "mimetype": "text/x-python",
   "name": "python",
   "nbconvert_exporter": "python",
   "pygments_lexer": "ipython3",
   "version": "3.9.2"
  }
 },
 "nbformat": 4,
 "nbformat_minor": 5
}
