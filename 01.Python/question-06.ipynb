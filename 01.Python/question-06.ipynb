{
 "cells": [
  {
   "cell_type": "code",
   "execution_count": null,
   "id": "615cc000-a326-44f8-8890-e4f8ae26f98a",
   "metadata": {},
   "outputs": [],
   "source": [
    "Question 6 -\n",
    "Using the data from Question 3, write code to analyze the data and answer the following questions Note 1.\n",
    "Draw plots to demonstrate the analysis for the following questions for better visualizations.\n",
    "2. Write code comments wherever required for code understanding"
   ]
  },
  {
   "cell_type": "code",
   "execution_count": null,
   "id": "a722bfa6-f75a-4ed2-8f5d-351e7cac933f",
   "metadata": {},
   "outputs": [],
   "source": [
    "Insights to be drawn -\n",
    "● Get all Pokemons whose spawn rate is less than 5%\n",
    "● Get all Pokemons that have less than 4 weaknesses\n",
    "● Get all Pokemons that have no multipliers at all\n",
    "● Get all Pokemons that do not have more than 2 evolutions\n",
    "● Get all Pokemons whose spawn time is less than 300 seconds.\n",
    "Note - spawn time format is \"05:32”, so assume “minute: second” format and perform the analysis.\n",
    "● Get all Pokemon who have more than two types of capabilities"
   ]
  },
  {
   "cell_type": "code",
   "execution_count": 1,
   "id": "efa05927-0ab6-4759-a1cb-ebb006166e46",
   "metadata": {},
   "outputs": [],
   "source": [
    "#Start"
   ]
  },
  {
   "cell_type": "code",
   "execution_count": 2,
   "id": "e48ff7ec-ed73-43e6-a7ae-d9369846b97c",
   "metadata": {},
   "outputs": [],
   "source": [
    "#Imports\n",
    "import pandas as pd\n",
    "import numpy as np\n",
    "import matplotlib.pyplot as plt\n",
    "%matplotlib inline\n",
    "import seaborn as sns\n",
    "from ast import literal_eval\n",
    "import datetime as dt"
   ]
  },
  {
   "cell_type": "code",
   "execution_count": 3,
   "id": "89d0e7c0-bcf0-41d5-bead-bc094db6fa2a",
   "metadata": {},
   "outputs": [],
   "source": [
    "#Initial dataset path\n",
    "data = \"data/pokedex.xlsx\""
   ]
  },
  {
   "cell_type": "code",
   "execution_count": 4,
   "id": "d4352491-cc50-4125-9ee9-d97a84869fb1",
   "metadata": {},
   "outputs": [],
   "source": [
    "#making DataFrame\n",
    "df=pd.read_excel(data,index_col=0)"
   ]
  },
  {
   "cell_type": "code",
   "execution_count": 5,
   "id": "11de14e3-e9af-49ac-805c-fd43d2bfcda5",
   "metadata": {},
   "outputs": [
    {
     "data": {
      "text/html": [
       "<div>\n",
       "<style scoped>\n",
       "    .dataframe tbody tr th:only-of-type {\n",
       "        vertical-align: middle;\n",
       "    }\n",
       "\n",
       "    .dataframe tbody tr th {\n",
       "        vertical-align: top;\n",
       "    }\n",
       "\n",
       "    .dataframe thead th {\n",
       "        text-align: right;\n",
       "    }\n",
       "</style>\n",
       "<table border=\"1\" class=\"dataframe\">\n",
       "  <thead>\n",
       "    <tr style=\"text-align: right;\">\n",
       "      <th></th>\n",
       "      <th>id</th>\n",
       "      <th>num</th>\n",
       "      <th>name</th>\n",
       "      <th>img</th>\n",
       "      <th>type</th>\n",
       "      <th>height</th>\n",
       "      <th>weight</th>\n",
       "      <th>candy</th>\n",
       "      <th>candy_count</th>\n",
       "      <th>egg</th>\n",
       "      <th>spawn_chance</th>\n",
       "      <th>avg_spawns</th>\n",
       "      <th>spawn_time</th>\n",
       "      <th>multipliers</th>\n",
       "      <th>weaknesses</th>\n",
       "      <th>next_evolution</th>\n",
       "      <th>prev_evolution</th>\n",
       "    </tr>\n",
       "  </thead>\n",
       "  <tbody>\n",
       "    <tr>\n",
       "      <th>0</th>\n",
       "      <td>1</td>\n",
       "      <td>1</td>\n",
       "      <td>Bulbasaur</td>\n",
       "      <td>http://www.serebii.net/pokemongo/pokemon/001.png</td>\n",
       "      <td>['Grass', 'Poison']</td>\n",
       "      <td>0.71</td>\n",
       "      <td>6.9</td>\n",
       "      <td>Bulbasaur Candy</td>\n",
       "      <td>25.0</td>\n",
       "      <td>2</td>\n",
       "      <td>0.690</td>\n",
       "      <td>69</td>\n",
       "      <td>20:00</td>\n",
       "      <td>[1.58]</td>\n",
       "      <td>['Fire', 'Ice', 'Flying', 'Psychic']</td>\n",
       "      <td>[{'num': '002', 'name': 'Ivysaur'}, {'num': '0...</td>\n",
       "      <td>NaN</td>\n",
       "    </tr>\n",
       "    <tr>\n",
       "      <th>1</th>\n",
       "      <td>2</td>\n",
       "      <td>2</td>\n",
       "      <td>Ivysaur</td>\n",
       "      <td>http://www.serebii.net/pokemongo/pokemon/002.png</td>\n",
       "      <td>['Grass', 'Poison']</td>\n",
       "      <td>0.99</td>\n",
       "      <td>13.0</td>\n",
       "      <td>Bulbasaur Candy</td>\n",
       "      <td>100.0</td>\n",
       "      <td>0</td>\n",
       "      <td>0.042</td>\n",
       "      <td>4</td>\n",
       "      <td>07:00</td>\n",
       "      <td>[1.2, 1.6]</td>\n",
       "      <td>['Fire', 'Ice', 'Flying', 'Psychic']</td>\n",
       "      <td>[{'num': '003', 'name': 'Venusaur'}]</td>\n",
       "      <td>[{'num': '001', 'name': 'Bulbasaur'}]</td>\n",
       "    </tr>\n",
       "    <tr>\n",
       "      <th>2</th>\n",
       "      <td>3</td>\n",
       "      <td>3</td>\n",
       "      <td>Venusaur</td>\n",
       "      <td>http://www.serebii.net/pokemongo/pokemon/003.png</td>\n",
       "      <td>['Grass', 'Poison']</td>\n",
       "      <td>2.01</td>\n",
       "      <td>100.0</td>\n",
       "      <td>Bulbasaur Candy</td>\n",
       "      <td>NaN</td>\n",
       "      <td>0</td>\n",
       "      <td>0.017</td>\n",
       "      <td>1</td>\n",
       "      <td>11:30</td>\n",
       "      <td>NaN</td>\n",
       "      <td>['Fire', 'Ice', 'Flying', 'Psychic']</td>\n",
       "      <td>NaN</td>\n",
       "      <td>[{'num': '001', 'name': 'Bulbasaur'}, {'num': ...</td>\n",
       "    </tr>\n",
       "    <tr>\n",
       "      <th>3</th>\n",
       "      <td>4</td>\n",
       "      <td>4</td>\n",
       "      <td>Charmander</td>\n",
       "      <td>http://www.serebii.net/pokemongo/pokemon/004.png</td>\n",
       "      <td>['Fire']</td>\n",
       "      <td>0.61</td>\n",
       "      <td>8.5</td>\n",
       "      <td>Charmander Candy</td>\n",
       "      <td>25.0</td>\n",
       "      <td>2</td>\n",
       "      <td>0.253</td>\n",
       "      <td>25</td>\n",
       "      <td>08:45</td>\n",
       "      <td>[1.65]</td>\n",
       "      <td>['Water', 'Ground', 'Rock']</td>\n",
       "      <td>[{'num': '005', 'name': 'Charmeleon'}, {'num':...</td>\n",
       "      <td>NaN</td>\n",
       "    </tr>\n",
       "    <tr>\n",
       "      <th>4</th>\n",
       "      <td>5</td>\n",
       "      <td>5</td>\n",
       "      <td>Charmeleon</td>\n",
       "      <td>http://www.serebii.net/pokemongo/pokemon/005.png</td>\n",
       "      <td>['Fire']</td>\n",
       "      <td>1.09</td>\n",
       "      <td>19.0</td>\n",
       "      <td>Charmander Candy</td>\n",
       "      <td>100.0</td>\n",
       "      <td>0</td>\n",
       "      <td>0.012</td>\n",
       "      <td>1</td>\n",
       "      <td>19:00</td>\n",
       "      <td>[1.79]</td>\n",
       "      <td>['Water', 'Ground', 'Rock']</td>\n",
       "      <td>[{'num': '006', 'name': 'Charizard'}]</td>\n",
       "      <td>[{'num': '004', 'name': 'Charmander'}]</td>\n",
       "    </tr>\n",
       "  </tbody>\n",
       "</table>\n",
       "</div>"
      ],
      "text/plain": [
       "   id  num        name                                               img   \n",
       "0   1    1   Bulbasaur  http://www.serebii.net/pokemongo/pokemon/001.png  \\\n",
       "1   2    2     Ivysaur  http://www.serebii.net/pokemongo/pokemon/002.png   \n",
       "2   3    3    Venusaur  http://www.serebii.net/pokemongo/pokemon/003.png   \n",
       "3   4    4  Charmander  http://www.serebii.net/pokemongo/pokemon/004.png   \n",
       "4   5    5  Charmeleon  http://www.serebii.net/pokemongo/pokemon/005.png   \n",
       "\n",
       "                  type  height  weight             candy  candy_count  egg   \n",
       "0  ['Grass', 'Poison']    0.71     6.9   Bulbasaur Candy         25.0    2  \\\n",
       "1  ['Grass', 'Poison']    0.99    13.0   Bulbasaur Candy        100.0    0   \n",
       "2  ['Grass', 'Poison']    2.01   100.0   Bulbasaur Candy          NaN    0   \n",
       "3             ['Fire']    0.61     8.5  Charmander Candy         25.0    2   \n",
       "4             ['Fire']    1.09    19.0  Charmander Candy        100.0    0   \n",
       "\n",
       "   spawn_chance  avg_spawns spawn_time multipliers   \n",
       "0         0.690          69      20:00      [1.58]  \\\n",
       "1         0.042           4      07:00  [1.2, 1.6]   \n",
       "2         0.017           1      11:30         NaN   \n",
       "3         0.253          25      08:45      [1.65]   \n",
       "4         0.012           1      19:00      [1.79]   \n",
       "\n",
       "                             weaknesses   \n",
       "0  ['Fire', 'Ice', 'Flying', 'Psychic']  \\\n",
       "1  ['Fire', 'Ice', 'Flying', 'Psychic']   \n",
       "2  ['Fire', 'Ice', 'Flying', 'Psychic']   \n",
       "3           ['Water', 'Ground', 'Rock']   \n",
       "4           ['Water', 'Ground', 'Rock']   \n",
       "\n",
       "                                      next_evolution   \n",
       "0  [{'num': '002', 'name': 'Ivysaur'}, {'num': '0...  \\\n",
       "1               [{'num': '003', 'name': 'Venusaur'}]   \n",
       "2                                                NaN   \n",
       "3  [{'num': '005', 'name': 'Charmeleon'}, {'num':...   \n",
       "4              [{'num': '006', 'name': 'Charizard'}]   \n",
       "\n",
       "                                      prev_evolution  \n",
       "0                                                NaN  \n",
       "1              [{'num': '001', 'name': 'Bulbasaur'}]  \n",
       "2  [{'num': '001', 'name': 'Bulbasaur'}, {'num': ...  \n",
       "3                                                NaN  \n",
       "4             [{'num': '004', 'name': 'Charmander'}]  "
      ]
     },
     "execution_count": 5,
     "metadata": {},
     "output_type": "execute_result"
    }
   ],
   "source": [
    "df.head()"
   ]
  },
  {
   "cell_type": "code",
   "execution_count": 6,
   "id": "f240591c-b666-417e-ab9f-0a48ffb7d617",
   "metadata": {},
   "outputs": [
    {
     "name": "stdout",
     "output_type": "stream",
     "text": [
      "<class 'pandas.core.frame.DataFrame'>\n",
      "Index: 151 entries, 0 to 150\n",
      "Data columns (total 17 columns):\n",
      " #   Column          Non-Null Count  Dtype  \n",
      "---  ------          --------------  -----  \n",
      " 0   id              151 non-null    int64  \n",
      " 1   num             151 non-null    int64  \n",
      " 2   name            151 non-null    object \n",
      " 3   img             151 non-null    object \n",
      " 4   type            151 non-null    object \n",
      " 5   height          151 non-null    float64\n",
      " 6   weight          151 non-null    float64\n",
      " 7   candy           124 non-null    object \n",
      " 8   candy_count     70 non-null     float64\n",
      " 9   egg             151 non-null    int64  \n",
      " 10  spawn_chance    151 non-null    float64\n",
      " 11  avg_spawns      151 non-null    int64  \n",
      " 12  spawn_time      145 non-null    object \n",
      " 13  multipliers     70 non-null     object \n",
      " 14  weaknesses      151 non-null    object \n",
      " 15  next_evolution  70 non-null     object \n",
      " 16  prev_evolution  72 non-null     object \n",
      "dtypes: float64(4), int64(4), object(9)\n",
      "memory usage: 21.2+ KB\n"
     ]
    }
   ],
   "source": [
    "df.info()"
   ]
  },
  {
   "cell_type": "code",
   "execution_count": 7,
   "id": "6c2a3cdc-f54e-4182-9bfb-8e9e05aeb275",
   "metadata": {},
   "outputs": [],
   "source": [
    "#Data Analysis"
   ]
  },
  {
   "cell_type": "markdown",
   "id": "8adb8839-820b-41bd-9f4e-489b048716bb",
   "metadata": {},
   "source": [
    "## ● Get all Pokemons whose spawn rate is less than 5%"
   ]
  },
  {
   "cell_type": "code",
   "execution_count": 8,
   "id": "15049052-6634-4326-b297-01ae33203e55",
   "metadata": {},
   "outputs": [],
   "source": [
    "spwn_rate = df[df[\"spawn_chance\"]<=0.05][\"id\"].count()"
   ]
  },
  {
   "cell_type": "code",
   "execution_count": 9,
   "id": "2454cc61-aad5-4b67-aa7e-16a99a0c2c03",
   "metadata": {},
   "outputs": [
    {
     "name": "stdout",
     "output_type": "stream",
     "text": [
      "There are 65 Pokemons whose spawn rate is less than 5%.\n"
     ]
    }
   ],
   "source": [
    "print(f\"There are {spwn_rate} Pokemons whose spawn rate is less than 5%.\")"
   ]
  },
  {
   "cell_type": "markdown",
   "id": "4679b0b0-af7a-4f30-9c59-cb92fa797964",
   "metadata": {},
   "source": [
    "## ● Get all Pokemons that have less than 4 weaknesses"
   ]
  },
  {
   "cell_type": "code",
   "execution_count": 10,
   "id": "03c2e4e7-3b73-4023-8348-9d59bad41d07",
   "metadata": {},
   "outputs": [],
   "source": [
    "four_less = df[df['weaknesses'].map(lambda x: len(eval(x)) <= 4)]"
   ]
  },
  {
   "cell_type": "code",
   "execution_count": 11,
   "id": "1a811bd0-58c5-4c6f-b296-60c3aaf424e7",
   "metadata": {},
   "outputs": [
    {
     "name": "stdout",
     "output_type": "stream",
     "text": [
      "There are 132 Pokemons that have less than 4 weaknesses\n"
     ]
    }
   ],
   "source": [
    "print(f\"There are {four_less.shape[0]} Pokemons that have less than 4 weaknesses\")"
   ]
  },
  {
   "cell_type": "markdown",
   "id": "6add1c9a-bd14-49c5-9c17-066185ec6967",
   "metadata": {},
   "source": [
    "## ● Get all Pokemons that have no multipliers at all"
   ]
  },
  {
   "cell_type": "code",
   "execution_count": 12,
   "id": "4c0a33dc-d3fc-480c-9d48-d404f908debb",
   "metadata": {},
   "outputs": [],
   "source": [
    "#df[df['multipliers']==np.NaN]\n",
    "\n",
    "no_mul = 0\n",
    "for i in df[\"multipliers\"]:\n",
    "    try:\n",
    "        i=eval(i)\n",
    "    except:\n",
    "        no_mul+=1"
   ]
  },
  {
   "cell_type": "code",
   "execution_count": 13,
   "id": "cf6bc4b4-f07d-46bc-b18b-26e1a4b67a1b",
   "metadata": {},
   "outputs": [
    {
     "name": "stdout",
     "output_type": "stream",
     "text": [
      "There are 81 Pokemons that have no multipliers at all\n"
     ]
    }
   ],
   "source": [
    "print(f\"There are {no_mul} Pokemons that have no multipliers at all\")"
   ]
  },
  {
   "cell_type": "markdown",
   "id": "9821ff16-e4db-40b6-b72b-b3deae70fbe2",
   "metadata": {},
   "source": [
    "## ● Get all Pokemons that do not have more than 2 evolutions"
   ]
  },
  {
   "cell_type": "code",
   "execution_count": 14,
   "id": "98a8e57c-572e-4d1c-a7f1-3786157aa085",
   "metadata": {},
   "outputs": [],
   "source": [
    "no_ev=0\n",
    "for i in df[\"next_evolution\"]:\n",
    "    try:\n",
    "        i=eval(i)\n",
    "        if len(i)<=2:\n",
    "            no_ev+=1\n",
    "    except:\n",
    "        pass"
   ]
  },
  {
   "cell_type": "code",
   "execution_count": 15,
   "id": "2a8ef8b1-c616-4b5a-b6ba-f515a30f8329",
   "metadata": {},
   "outputs": [
    {
     "name": "stdout",
     "output_type": "stream",
     "text": [
      "There are 69 Pokemons that do not have more than 2 evolutions\n"
     ]
    }
   ],
   "source": [
    "print(f\"There are {no_ev} Pokemons that do not have more than 2 evolutions\")"
   ]
  },
  {
   "cell_type": "markdown",
   "id": "e1e8f892-956b-46d4-acd3-e052eebdeb38",
   "metadata": {},
   "source": [
    "## ● Get all Pokemons whose spawn time is less than 300 seconds."
   ]
  },
  {
   "cell_type": "code",
   "execution_count": 16,
   "id": "0a3b97f0-f5c4-49c2-840d-ec5df47b6e3d",
   "metadata": {},
   "outputs": [],
   "source": [
    "spwn_t=0\n",
    "\n",
    "for i in df[\"spawn_time\"]:\n",
    "    try:\n",
    "        ti=dt.datetime.strptime(str(i),\"%M:%S\") - dt.datetime(1900,1,1)\n",
    "        if ti.total_seconds()<=300:\n",
    "            spwn_t+=1\n",
    "    except:\n",
    "        pass"
   ]
  },
  {
   "cell_type": "code",
   "execution_count": 17,
   "id": "62397f26-8e25-4edd-8131-bcb97ef51491",
   "metadata": {},
   "outputs": [
    {
     "name": "stdout",
     "output_type": "stream",
     "text": [
      "There are 75 Pokemons whose spawn time is less than 300 seconds.\n"
     ]
    }
   ],
   "source": [
    "print(f\"There are {spwn_t} Pokemons whose spawn time is less than 300 seconds.\")"
   ]
  },
  {
   "cell_type": "markdown",
   "id": "883724df-3af2-41db-ae76-b386b2a76a6d",
   "metadata": {},
   "source": [
    "## ● Get all Pokemon who have more than two types of capabilities"
   ]
  },
  {
   "cell_type": "code",
   "execution_count": 18,
   "id": "6f840176-e980-4f2a-9d19-42d837745b10",
   "metadata": {},
   "outputs": [],
   "source": [
    "more_2 = 0\n",
    "\n",
    "for i in df[\"type\"]:\n",
    "    try:\n",
    "        i = eval(i)\n",
    "        if len(i) >= 2:\n",
    "            more_2+=1\n",
    "    except:\n",
    "        pass"
   ]
  },
  {
   "cell_type": "code",
   "execution_count": 19,
   "id": "d2e9122a-7abe-4166-a84e-7e357ebc9eff",
   "metadata": {},
   "outputs": [
    {
     "name": "stdout",
     "output_type": "stream",
     "text": [
      "There are 62 Pokemons who have more than two types of capabilities\n"
     ]
    }
   ],
   "source": [
    "print(f\"There are {more_2} Pokemons who have more than two types of capabilities\")"
   ]
  },
  {
   "cell_type": "code",
   "execution_count": null,
   "id": "ed83961c-7a9c-4fa9-9595-062ea9d782fd",
   "metadata": {},
   "outputs": [],
   "source": []
  },
  {
   "cell_type": "code",
   "execution_count": null,
   "id": "4d6f6f67-5ed4-479d-a113-5915d3a6e2db",
   "metadata": {},
   "outputs": [],
   "source": []
  },
  {
   "cell_type": "code",
   "execution_count": null,
   "id": "5eefddbe-c966-4923-ac53-d23e2d70bd5d",
   "metadata": {},
   "outputs": [],
   "source": []
  }
 ],
 "metadata": {
  "kernelspec": {
   "display_name": "Python 3 (ipykernel)",
   "language": "python",
   "name": "python3"
  },
  "language_info": {
   "codemirror_mode": {
    "name": "ipython",
    "version": 3
   },
   "file_extension": ".py",
   "mimetype": "text/x-python",
   "name": "python",
   "nbconvert_exporter": "python",
   "pygments_lexer": "ipython3",
   "version": "3.9.2"
  }
 },
 "nbformat": 4,
 "nbformat_minor": 5
}
