{
 "cells": [
  {
   "attachments": {},
   "cell_type": "markdown",
   "metadata": {},
   "source": [
    "Question 10 -\n",
    "Write a program to count the number of verbs, nouns, pronouns, and adjectives in a given particular phrase or\n",
    "paragraph, and return their respective count as a dictionary.\n",
    "Note -\n",
    "1. Write code comments wherever required for code\n",
    "2. You have to write at least 2 additional test cases in which your program will run successfully and provide\n",
    "an explanation for the same."
   ]
  },
  {
   "cell_type": "code",
   "execution_count": 36,
   "metadata": {},
   "outputs": [],
   "source": [
    "#Start"
   ]
  },
  {
   "cell_type": "code",
   "execution_count": 37,
   "metadata": {},
   "outputs": [
    {
     "name": "stderr",
     "output_type": "stream",
     "text": [
      "[nltk_data] Downloading package punkt to\n",
      "[nltk_data]     C:\\Users\\SkyLake\\AppData\\Roaming\\nltk_data...\n",
      "[nltk_data]   Package punkt is already up-to-date!\n",
      "[nltk_data] Downloading package averaged_perceptron_tagger to\n",
      "[nltk_data]     C:\\Users\\SkyLake\\AppData\\Roaming\\nltk_data...\n",
      "[nltk_data]   Package averaged_perceptron_tagger is already up-to-\n",
      "[nltk_data]       date!\n"
     ]
    }
   ],
   "source": [
    "#IMports\n",
    "import nltk\n",
    "nltk.download('punkt')\n",
    "nltk.download('averaged_perceptron_tagger')\n",
    "from nltk import pos_tag\n",
    "from nltk.tokenize import word_tokenize"
   ]
  },
  {
   "cell_type": "code",
   "execution_count": 38,
   "metadata": {},
   "outputs": [],
   "source": [
    "#Function for counting using NLTK\n",
    "def word_counter(text):\n",
    "    counts= {\"verb\":0,\"noun\":0,\"pronoun\":0,\"adjectives\":0} #Empty Dictionary\n",
    "    words = word_tokenize(text) #Tokenizing text to words\n",
    "    tagged_words =pos_tag(words) #Part-of-speech tagging the words\n",
    "\n",
    "    #Counting and Updating in proper way\n",
    "    for i,j in tagged_words:\n",
    "        if \"VB\" in j:\n",
    "            counts[\"verb\"]+=1\n",
    "        elif \"NN\" in j:\n",
    "            counts[\"noun\"]+=1\n",
    "        elif \"PR\" in j:\n",
    "            counts[\"pronoun\"]+=1\n",
    "        elif \"JJ\" in j:\n",
    "            counts[\"adjectives\"]+=1   \n",
    "\n",
    "    return counts"
   ]
  },
  {
   "cell_type": "code",
   "execution_count": 39,
   "metadata": {},
   "outputs": [
    {
     "name": "stdout",
     "output_type": "stream",
     "text": [
      "{'verb': 4, 'noun': 7, 'pronoun': 1, 'adjectives': 3}\n"
     ]
    }
   ],
   "source": [
    "#Test01 \n",
    "\n",
    "text = \"Many movies were adapted from books. The Wizard of Oz, for example, was a popular novel before it hit the big screen.\"\n",
    "result = word_counter(text)\n",
    "print(result)"
   ]
  },
  {
   "cell_type": "code",
   "execution_count": 40,
   "metadata": {},
   "outputs": [
    {
     "name": "stdout",
     "output_type": "stream",
     "text": [
      "{'verb': 2, 'noun': 6, 'pronoun': 0, 'adjectives': 3}\n"
     ]
    }
   ],
   "source": [
    "#Test02 \n",
    "\n",
    "text = \"Deep learning is a subset of machine learning, which is essentially a neural network with three or more layers.\"\n",
    "result = word_counter(text)\n",
    "print(result)"
   ]
  },
  {
   "cell_type": "code",
   "execution_count": 41,
   "metadata": {},
   "outputs": [
    {
     "name": "stdout",
     "output_type": "stream",
     "text": [
      "{'verb': 3, 'noun': 7, 'pronoun': 0, 'adjectives': 3}\n"
     ]
    }
   ],
   "source": [
    "#Test03\n",
    "\n",
    "text = \"What does GAN stand for? Generative adversarial networks (GANs) are an exciting recent innovation in machine learning.\"\n",
    "result = word_counter(text)\n",
    "print(result)"
   ]
  },
  {
   "cell_type": "code",
   "execution_count": null,
   "metadata": {},
   "outputs": [],
   "source": []
  }
 ],
 "metadata": {
  "kernelspec": {
   "display_name": "base",
   "language": "python",
   "name": "python3"
  },
  "language_info": {
   "codemirror_mode": {
    "name": "ipython",
    "version": 3
   },
   "file_extension": ".py",
   "mimetype": "text/x-python",
   "name": "python",
   "nbconvert_exporter": "python",
   "pygments_lexer": "ipython3",
   "version": "3.9.13"
  },
  "orig_nbformat": 4
 },
 "nbformat": 4,
 "nbformat_minor": 2
}
