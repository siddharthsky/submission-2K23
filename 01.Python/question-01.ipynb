{
 "cells": [
  {
   "cell_type": "markdown",
   "id": "4efa4e93-120e-4676-b457-872e6f6dd11a",
   "metadata": {},
   "source": [
    "Question 1: -\n",
    "Write a program that takes a string as input, and counts the frequency of each word in the string, there might\n",
    "be repeated characters in the string. Your task is to find the highest frequency and returns the length of the\n",
    "highest-frequency word."
   ]
  },
  {
   "cell_type": "markdown",
   "id": "a7b71516-ca5b-487c-a9e9-85e142e1da32",
   "metadata": {},
   "source": [
    "Note - You have to write at least 2 additional test cases in which your program will run successfully and provide\n",
    "an explanation for the same.\n",
    "Example input - string = “write write write all the number from from from 1 to 100”\n",
    "Example output - 5\n",
    "Explanation - From the given string we can note that the most frequent words are “write” and “from” and\n",
    "the maximum value of both the values is “write” and its corresponding length is 5"
   ]
  },
  {
   "cell_type": "code",
   "execution_count": 13,
   "id": "065cf8bf-2f00-44d3-bfaf-2411dbc718b7",
   "metadata": {},
   "outputs": [
    {
     "data": {
      "text/plain": [
       "{}"
      ]
     },
     "execution_count": 13,
     "metadata": {},
     "output_type": "execute_result"
    }
   ],
   "source": [
    "def freq_finder(string01):\n",
    "    sd = string01.split(\" \")\n",
    "    countz = 0\n",
    "    dict01 = {}\n",
    "    for i in sd:\n",
    "        if sd.count(i)<1:\n",
    "            dict01.add(i, sd.count(i))\n",
    "        else:\n",
    "            pass\n",
    "    return dict01\n",
    "        \n",
    "    \n",
    "\n",
    "\n",
    "#string01 = input(\"Enter the Sentence:\")\n",
    "string01= \"write write write all the number from from from 1 to 100\"\n",
    "freq_finder(string01)"
   ]
  },
  {
   "cell_type": "code",
   "execution_count": null,
   "id": "f6f5943f-7771-4796-b792-03a3f44a7651",
   "metadata": {},
   "outputs": [],
   "source": []
  }
 ],
 "metadata": {
  "kernelspec": {
   "display_name": "Python 3 (ipykernel)",
   "language": "python",
   "name": "python3"
  },
  "language_info": {
   "codemirror_mode": {
    "name": "ipython",
    "version": 3
   },
   "file_extension": ".py",
   "mimetype": "text/x-python",
   "name": "python",
   "nbconvert_exporter": "python",
   "pygments_lexer": "ipython3",
   "version": "3.9.2"
  }
 },
 "nbformat": 4,
 "nbformat_minor": 5
}
