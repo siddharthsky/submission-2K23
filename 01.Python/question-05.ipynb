{
 "cells": [
  {
   "cell_type": "code",
   "execution_count": null,
   "id": "1b184dfb-68a2-4f24-ba97-f9d720509e8e",
   "metadata": {},
   "outputs": [],
   "source": [
    "Question 5 -\n",
    "Write a program to download the data from the given API link and then extract the following data with\n",
    "proper formatting\n",
    "Link - http://api.tvmaze.com/singlesearch/shows?q=westworld&embed=episodes\n",
    "Note - Write proper code comments wherever needed for the code understanding"
   ]
  },
  {
   "cell_type": "code",
   "execution_count": null,
   "id": "1bd5ed04-231d-4399-aab4-c2f86c051f00",
   "metadata": {},
   "outputs": [],
   "source": [
    "Excepted Output Data Attributes -\n",
    "● id - int url - string\n",
    "● name - string season\n",
    "● - int number - int\n",
    "● type - string airdate -\n",
    "● date format airtime -\n",
    "● 12-hour time format\n",
    "● runtime - float\n",
    "● average rating - float\n",
    "● summary - string\n",
    "● without html tags\n",
    "● medium image link - string\n",
    "● Original image link - string"
   ]
  },
  {
   "cell_type": "code",
   "execution_count": 46,
   "id": "18c1ba48-1b79-4853-a72b-c50f69c5b701",
   "metadata": {},
   "outputs": [],
   "source": [
    "#Start"
   ]
  },
  {
   "cell_type": "code",
   "execution_count": 47,
   "id": "315fda9b-a1eb-4c7c-8170-260c08c82f38",
   "metadata": {},
   "outputs": [],
   "source": [
    "#Imports\n",
    "import pandas as pd\n",
    "import numpy as np\n",
    "import requests\n",
    "import json"
   ]
  },
  {
   "cell_type": "code",
   "execution_count": 48,
   "id": "badc9eb8-d0bf-493b-baf5-bb3ff88f1476",
   "metadata": {},
   "outputs": [],
   "source": [
    "#URL\n",
    "url = \"http://api.tvmaze.com/singlesearch/shows?q=westworld&embed=episodes\""
   ]
  },
  {
   "cell_type": "code",
   "execution_count": 49,
   "id": "826add57-6c9d-4c7d-93bb-a3156d5c29f0",
   "metadata": {},
   "outputs": [],
   "source": [
    "#GET request to save data\n",
    "r=requests.get(url)\n",
    "json_01=r.json()"
   ]
  },
  {
   "cell_type": "code",
   "execution_count": 50,
   "id": "e646170b-5c9b-4013-921c-b7cb9241340f",
   "metadata": {},
   "outputs": [
    {
     "data": {
      "text/plain": [
       "dict_keys(['id', 'url', 'name', 'type', 'language', 'genres', 'status', 'runtime', 'averageRuntime', 'premiered', 'ended', 'officialSite', 'schedule', 'rating', 'weight', 'network', 'webChannel', 'dvdCountry', 'externals', 'image', 'summary', 'updated', '_links', '_embedded'])"
      ]
     },
     "execution_count": 50,
     "metadata": {},
     "output_type": "execute_result"
    }
   ],
   "source": [
    "#Checking the keys in JSON\n",
    "json_01.keys()"
   ]
  },
  {
   "cell_type": "code",
   "execution_count": 51,
   "id": "ee0d9ae4-5be9-438c-929d-eb33c646fb47",
   "metadata": {},
   "outputs": [],
   "source": [
    "#Initialize empty list to store data\n",
    "ids = []\n",
    "urls = []\n",
    "names = []\n",
    "seasons = []\n",
    "numbers = []\n",
    "types = []\n",
    "airdates = []\n",
    "airtimes = []\n",
    "runtimes = []\n",
    "ratings = []\n",
    "summaries = []\n",
    "medium_images = []\n",
    "original_images = []"
   ]
  },
  {
   "cell_type": "code",
   "execution_count": 52,
   "id": "b69fc0c7-e9b4-4e67-a773-e7276f41c027",
   "metadata": {},
   "outputs": [],
   "source": [
    "#Iteratively appending the data in lists and doing some preprocessing\n",
    "for i in json_01['_embedded']['episodes']:\n",
    "    ids.append(i['id'])\n",
    "    urls.append(i['url'])\n",
    "    names.append(i['name'])\n",
    "    seasons.append(i['season'])\n",
    "    numbers.append(i['number'])\n",
    "    types.append(i['type'])\n",
    "    airdates.append(i['airdate'])\n",
    "    airtimes.append(i['airtime'])\n",
    "    runtimes.append(i['runtime'])\n",
    "    ratings.append(i['rating']['average'])\n",
    "    summaries.append(i['summary'].strip().replace('<p>', '').replace('</p>', ''))\n",
    "    medium_images.append(i['image']['medium'] if episode['image'] else '')\n",
    "    original_images.append(i['image']['original'] if episode['image'] else '')"
   ]
  },
  {
   "cell_type": "code",
   "execution_count": 53,
   "id": "870070d1-a6ba-4304-9566-63bdf6536e8f",
   "metadata": {},
   "outputs": [],
   "source": [
    "#Making Pandas Dataframe\n",
    "df = pd.DataFrame({\n",
    "    'id': ids,\n",
    "    'url': urls,\n",
    "    'name': names,\n",
    "    'season': seasons,\n",
    "    'number': numbers,\n",
    "    'type': types,\n",
    "    'airdate': airdates,\n",
    "    'airtime': airtimes,\n",
    "    'runtime': runtimes,\n",
    "    'rating': ratings,\n",
    "    'summary': summaries,\n",
    "    'medium_image': medium_images,\n",
    "    'original_image': original_images})"
   ]
  },
  {
   "cell_type": "code",
   "execution_count": 54,
   "id": "de325bae-184d-4d0d-96d4-f8ca97ba571f",
   "metadata": {},
   "outputs": [
    {
     "data": {
      "text/html": [
       "<div>\n",
       "<style scoped>\n",
       "    .dataframe tbody tr th:only-of-type {\n",
       "        vertical-align: middle;\n",
       "    }\n",
       "\n",
       "    .dataframe tbody tr th {\n",
       "        vertical-align: top;\n",
       "    }\n",
       "\n",
       "    .dataframe thead th {\n",
       "        text-align: right;\n",
       "    }\n",
       "</style>\n",
       "<table border=\"1\" class=\"dataframe\">\n",
       "  <thead>\n",
       "    <tr style=\"text-align: right;\">\n",
       "      <th></th>\n",
       "      <th>id</th>\n",
       "      <th>url</th>\n",
       "      <th>name</th>\n",
       "      <th>season</th>\n",
       "      <th>number</th>\n",
       "      <th>type</th>\n",
       "      <th>airdate</th>\n",
       "      <th>airtime</th>\n",
       "      <th>runtime</th>\n",
       "      <th>rating</th>\n",
       "      <th>summary</th>\n",
       "      <th>medium_image</th>\n",
       "      <th>original_image</th>\n",
       "    </tr>\n",
       "  </thead>\n",
       "  <tbody>\n",
       "    <tr>\n",
       "      <th>0</th>\n",
       "      <td>869671</td>\n",
       "      <td>https://www.tvmaze.com/episodes/869671/westwor...</td>\n",
       "      <td>The Original</td>\n",
       "      <td>1</td>\n",
       "      <td>1</td>\n",
       "      <td>regular</td>\n",
       "      <td>2016-10-02</td>\n",
       "      <td>21:00</td>\n",
       "      <td>68</td>\n",
       "      <td>8.0</td>\n",
       "      <td>A woman named Dolores is a free spirit in the ...</td>\n",
       "      <td>https://static.tvmaze.com/uploads/images/mediu...</td>\n",
       "      <td>https://static.tvmaze.com/uploads/images/origi...</td>\n",
       "    </tr>\n",
       "    <tr>\n",
       "      <th>1</th>\n",
       "      <td>911201</td>\n",
       "      <td>https://www.tvmaze.com/episodes/911201/westwor...</td>\n",
       "      <td>Chestnut</td>\n",
       "      <td>1</td>\n",
       "      <td>2</td>\n",
       "      <td>regular</td>\n",
       "      <td>2016-10-09</td>\n",
       "      <td>21:00</td>\n",
       "      <td>60</td>\n",
       "      <td>7.7</td>\n",
       "      <td>Bernard suspects that someone is sabotaging th...</td>\n",
       "      <td>https://static.tvmaze.com/uploads/images/mediu...</td>\n",
       "      <td>https://static.tvmaze.com/uploads/images/origi...</td>\n",
       "    </tr>\n",
       "    <tr>\n",
       "      <th>2</th>\n",
       "      <td>911204</td>\n",
       "      <td>https://www.tvmaze.com/episodes/911204/westwor...</td>\n",
       "      <td>The Stray</td>\n",
       "      <td>1</td>\n",
       "      <td>3</td>\n",
       "      <td>regular</td>\n",
       "      <td>2016-10-16</td>\n",
       "      <td>21:00</td>\n",
       "      <td>60</td>\n",
       "      <td>7.6</td>\n",
       "      <td>Bernard continues to investigate Dolores' supp...</td>\n",
       "      <td>https://static.tvmaze.com/uploads/images/mediu...</td>\n",
       "      <td>https://static.tvmaze.com/uploads/images/origi...</td>\n",
       "    </tr>\n",
       "    <tr>\n",
       "      <th>3</th>\n",
       "      <td>911205</td>\n",
       "      <td>https://www.tvmaze.com/episodes/911205/westwor...</td>\n",
       "      <td>Dissonance Theory</td>\n",
       "      <td>1</td>\n",
       "      <td>4</td>\n",
       "      <td>regular</td>\n",
       "      <td>2016-10-23</td>\n",
       "      <td>21:00</td>\n",
       "      <td>60</td>\n",
       "      <td>7.9</td>\n",
       "      <td>While Dolores joins William and Logan on their...</td>\n",
       "      <td>https://static.tvmaze.com/uploads/images/mediu...</td>\n",
       "      <td>https://static.tvmaze.com/uploads/images/origi...</td>\n",
       "    </tr>\n",
       "    <tr>\n",
       "      <th>4</th>\n",
       "      <td>927174</td>\n",
       "      <td>https://www.tvmaze.com/episodes/927174/westwor...</td>\n",
       "      <td>Contrapasso</td>\n",
       "      <td>1</td>\n",
       "      <td>5</td>\n",
       "      <td>regular</td>\n",
       "      <td>2016-10-30</td>\n",
       "      <td>21:00</td>\n",
       "      <td>60</td>\n",
       "      <td>8.0</td>\n",
       "      <td>Dolores takes the first step on her path of di...</td>\n",
       "      <td>https://static.tvmaze.com/uploads/images/mediu...</td>\n",
       "      <td>https://static.tvmaze.com/uploads/images/origi...</td>\n",
       "    </tr>\n",
       "  </tbody>\n",
       "</table>\n",
       "</div>"
      ],
      "text/plain": [
       "       id                                                url   \n",
       "0  869671  https://www.tvmaze.com/episodes/869671/westwor...  \\\n",
       "1  911201  https://www.tvmaze.com/episodes/911201/westwor...   \n",
       "2  911204  https://www.tvmaze.com/episodes/911204/westwor...   \n",
       "3  911205  https://www.tvmaze.com/episodes/911205/westwor...   \n",
       "4  927174  https://www.tvmaze.com/episodes/927174/westwor...   \n",
       "\n",
       "                name  season  number     type     airdate airtime  runtime   \n",
       "0       The Original       1       1  regular  2016-10-02   21:00       68  \\\n",
       "1           Chestnut       1       2  regular  2016-10-09   21:00       60   \n",
       "2          The Stray       1       3  regular  2016-10-16   21:00       60   \n",
       "3  Dissonance Theory       1       4  regular  2016-10-23   21:00       60   \n",
       "4        Contrapasso       1       5  regular  2016-10-30   21:00       60   \n",
       "\n",
       "   rating                                            summary   \n",
       "0     8.0  A woman named Dolores is a free spirit in the ...  \\\n",
       "1     7.7  Bernard suspects that someone is sabotaging th...   \n",
       "2     7.6  Bernard continues to investigate Dolores' supp...   \n",
       "3     7.9  While Dolores joins William and Logan on their...   \n",
       "4     8.0  Dolores takes the first step on her path of di...   \n",
       "\n",
       "                                        medium_image   \n",
       "0  https://static.tvmaze.com/uploads/images/mediu...  \\\n",
       "1  https://static.tvmaze.com/uploads/images/mediu...   \n",
       "2  https://static.tvmaze.com/uploads/images/mediu...   \n",
       "3  https://static.tvmaze.com/uploads/images/mediu...   \n",
       "4  https://static.tvmaze.com/uploads/images/mediu...   \n",
       "\n",
       "                                      original_image  \n",
       "0  https://static.tvmaze.com/uploads/images/origi...  \n",
       "1  https://static.tvmaze.com/uploads/images/origi...  \n",
       "2  https://static.tvmaze.com/uploads/images/origi...  \n",
       "3  https://static.tvmaze.com/uploads/images/origi...  \n",
       "4  https://static.tvmaze.com/uploads/images/origi...  "
      ]
     },
     "execution_count": 54,
     "metadata": {},
     "output_type": "execute_result"
    }
   ],
   "source": [
    "#Final Preview\n",
    "df.head()"
   ]
  },
  {
   "cell_type": "code",
   "execution_count": 55,
   "id": "c2feaacd-0c0c-4ab7-913a-8d37c4e0674e",
   "metadata": {},
   "outputs": [
    {
     "name": "stdout",
     "output_type": "stream",
     "text": [
      "<class 'pandas.core.frame.DataFrame'>\n",
      "RangeIndex: 36 entries, 0 to 35\n",
      "Data columns (total 13 columns):\n",
      " #   Column          Non-Null Count  Dtype  \n",
      "---  ------          --------------  -----  \n",
      " 0   id              36 non-null     int64  \n",
      " 1   url             36 non-null     object \n",
      " 2   name            36 non-null     object \n",
      " 3   season          36 non-null     int64  \n",
      " 4   number          36 non-null     int64  \n",
      " 5   type            36 non-null     object \n",
      " 6   airdate         36 non-null     object \n",
      " 7   airtime         36 non-null     object \n",
      " 8   runtime         36 non-null     int64  \n",
      " 9   rating          36 non-null     float64\n",
      " 10  summary         36 non-null     object \n",
      " 11  medium_image    36 non-null     object \n",
      " 12  original_image  36 non-null     object \n",
      "dtypes: float64(1), int64(4), object(8)\n",
      "memory usage: 3.8+ KB\n"
     ]
    }
   ],
   "source": [
    "#Data type check\n",
    "df.info()"
   ]
  },
  {
   "cell_type": "code",
   "execution_count": 56,
   "id": "95a1fda3-44fa-4fd4-bd95-a15b24cc7473",
   "metadata": {},
   "outputs": [],
   "source": [
    "#Saving final DF\n",
    "df.to_csv(\"data/movies.csv\")"
   ]
  },
  {
   "cell_type": "code",
   "execution_count": null,
   "id": "6f6a8339-6026-48be-9430-0cb7c0c8dde8",
   "metadata": {},
   "outputs": [],
   "source": []
  }
 ],
 "metadata": {
  "kernelspec": {
   "display_name": "Python 3 (ipykernel)",
   "language": "python",
   "name": "python3"
  },
  "language_info": {
   "codemirror_mode": {
    "name": "ipython",
    "version": 3
   },
   "file_extension": ".py",
   "mimetype": "text/x-python",
   "name": "python",
   "nbconvert_exporter": "python",
   "pygments_lexer": "ipython3",
   "version": "3.9.2"
  }
 },
 "nbformat": 4,
 "nbformat_minor": 5
}
