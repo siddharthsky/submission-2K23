{
 "cells": [
  {
   "cell_type": "code",
   "execution_count": null,
   "id": "43a57c5d-97ad-4d17-9a4d-f67e79a4e994",
   "metadata": {},
   "outputs": [],
   "source": [
    "Question 8 -\n",
    "Using the data from Question 5, write code the analyze the data and answer the following questions \n",
    "\n",
    "Note -\n",
    "1. Draw plots to demonstrate the analysis for the following questions and better visualizations\n",
    "2. Write code comments wherever required for code understanding\n",
    "\n",
    "Insights to be drawn -\n",
    "● Get all the overall ratings for each season and using plots compare the ratings for all the\n",
    "seasons, like season 1 ratings, season 2, and so on.\n",
    "● Get all the episode names, whose average rating is more than 8 for every season\n",
    "● Get all the episode names that aired before May 2019\n",
    "● Get the episode name from each season with the highest and lowest rating\n",
    "● Get the summary for the most popular ( ratings ) episode in every season"
   ]
  },
  {
   "cell_type": "code",
   "execution_count": 1,
   "id": "172b653c",
   "metadata": {},
   "outputs": [],
   "source": [
    "#Start"
   ]
  },
  {
   "cell_type": "code",
   "execution_count": 51,
   "id": "8a10204a",
   "metadata": {},
   "outputs": [],
   "source": [
    "#Imports\n",
    "import pandas as pd\n",
    "pd.set_option('max_colwidth', 500)\n",
    "import numpy as np\n",
    "import matplotlib.pyplot as plt\n",
    "%matplotlib inline\n",
    "import seaborn as sns\n",
    "from ast import literal_eval\n",
    "import datetime as dt"
   ]
  },
  {
   "cell_type": "code",
   "execution_count": 3,
   "id": "b927a8ef",
   "metadata": {},
   "outputs": [],
   "source": [
    "#path\n",
    "fpath = \"data/movies.csv\""
   ]
  },
  {
   "cell_type": "code",
   "execution_count": 4,
   "id": "1f44a4ce",
   "metadata": {},
   "outputs": [],
   "source": [
    "df=pd.read_csv(fpath,index_col=0)"
   ]
  },
  {
   "cell_type": "code",
   "execution_count": 5,
   "id": "19daae51",
   "metadata": {},
   "outputs": [
    {
     "name": "stdout",
     "output_type": "stream",
     "text": [
      "<class 'pandas.core.frame.DataFrame'>\n",
      "Int64Index: 36 entries, 0 to 35\n",
      "Data columns (total 13 columns):\n",
      " #   Column          Non-Null Count  Dtype  \n",
      "---  ------          --------------  -----  \n",
      " 0   id              36 non-null     int64  \n",
      " 1   url             36 non-null     object \n",
      " 2   name            36 non-null     object \n",
      " 3   season          36 non-null     int64  \n",
      " 4   number          36 non-null     int64  \n",
      " 5   type            36 non-null     object \n",
      " 6   airdate         36 non-null     object \n",
      " 7   airtime         36 non-null     object \n",
      " 8   runtime         36 non-null     int64  \n",
      " 9   rating          36 non-null     float64\n",
      " 10  summary         36 non-null     object \n",
      " 11  medium_image    36 non-null     object \n",
      " 12  original_image  36 non-null     object \n",
      "dtypes: float64(1), int64(4), object(8)\n",
      "memory usage: 3.9+ KB\n"
     ]
    }
   ],
   "source": [
    "df.info()"
   ]
  },
  {
   "cell_type": "code",
   "execution_count": 24,
   "id": "207cfc28",
   "metadata": {},
   "outputs": [
    {
     "data": {
      "text/plain": [
       "(36, 13)"
      ]
     },
     "execution_count": 24,
     "metadata": {},
     "output_type": "execute_result"
    }
   ],
   "source": [
    "df.shape"
   ]
  },
  {
   "cell_type": "code",
   "execution_count": 26,
   "id": "58d8f724",
   "metadata": {},
   "outputs": [
    {
     "data": {
      "text/html": [
       "<div>\n",
       "<style scoped>\n",
       "    .dataframe tbody tr th:only-of-type {\n",
       "        vertical-align: middle;\n",
       "    }\n",
       "\n",
       "    .dataframe tbody tr th {\n",
       "        vertical-align: top;\n",
       "    }\n",
       "\n",
       "    .dataframe thead th {\n",
       "        text-align: right;\n",
       "    }\n",
       "</style>\n",
       "<table border=\"1\" class=\"dataframe\">\n",
       "  <thead>\n",
       "    <tr style=\"text-align: right;\">\n",
       "      <th></th>\n",
       "      <th>id</th>\n",
       "      <th>url</th>\n",
       "      <th>name</th>\n",
       "      <th>season</th>\n",
       "      <th>number</th>\n",
       "      <th>type</th>\n",
       "      <th>airdate</th>\n",
       "      <th>airtime</th>\n",
       "      <th>runtime</th>\n",
       "      <th>rating</th>\n",
       "      <th>summary</th>\n",
       "      <th>medium_image</th>\n",
       "      <th>original_image</th>\n",
       "    </tr>\n",
       "  </thead>\n",
       "  <tbody>\n",
       "    <tr>\n",
       "      <th>0</th>\n",
       "      <td>869671</td>\n",
       "      <td>https://www.tvmaze.com/episodes...</td>\n",
       "      <td>The Original</td>\n",
       "      <td>1</td>\n",
       "      <td>1</td>\n",
       "      <td>regular</td>\n",
       "      <td>2016-10-02</td>\n",
       "      <td>21:00</td>\n",
       "      <td>68</td>\n",
       "      <td>8.0</td>\n",
       "      <td>A woman named Dolores is a free...</td>\n",
       "      <td>https://static.tvmaze.com/uploa...</td>\n",
       "      <td>https://static.tvmaze.com/uploa...</td>\n",
       "    </tr>\n",
       "    <tr>\n",
       "      <th>1</th>\n",
       "      <td>911201</td>\n",
       "      <td>https://www.tvmaze.com/episodes...</td>\n",
       "      <td>Chestnut</td>\n",
       "      <td>1</td>\n",
       "      <td>2</td>\n",
       "      <td>regular</td>\n",
       "      <td>2016-10-09</td>\n",
       "      <td>21:00</td>\n",
       "      <td>60</td>\n",
       "      <td>7.7</td>\n",
       "      <td>Bernard suspects that someone i...</td>\n",
       "      <td>https://static.tvmaze.com/uploa...</td>\n",
       "      <td>https://static.tvmaze.com/uploa...</td>\n",
       "    </tr>\n",
       "    <tr>\n",
       "      <th>2</th>\n",
       "      <td>911204</td>\n",
       "      <td>https://www.tvmaze.com/episodes...</td>\n",
       "      <td>The Stray</td>\n",
       "      <td>1</td>\n",
       "      <td>3</td>\n",
       "      <td>regular</td>\n",
       "      <td>2016-10-16</td>\n",
       "      <td>21:00</td>\n",
       "      <td>60</td>\n",
       "      <td>7.6</td>\n",
       "      <td>Bernard continues to investigat...</td>\n",
       "      <td>https://static.tvmaze.com/uploa...</td>\n",
       "      <td>https://static.tvmaze.com/uploa...</td>\n",
       "    </tr>\n",
       "    <tr>\n",
       "      <th>3</th>\n",
       "      <td>911205</td>\n",
       "      <td>https://www.tvmaze.com/episodes...</td>\n",
       "      <td>Dissonance Theory</td>\n",
       "      <td>1</td>\n",
       "      <td>4</td>\n",
       "      <td>regular</td>\n",
       "      <td>2016-10-23</td>\n",
       "      <td>21:00</td>\n",
       "      <td>60</td>\n",
       "      <td>7.9</td>\n",
       "      <td>While Dolores joins William and...</td>\n",
       "      <td>https://static.tvmaze.com/uploa...</td>\n",
       "      <td>https://static.tvmaze.com/uploa...</td>\n",
       "    </tr>\n",
       "    <tr>\n",
       "      <th>4</th>\n",
       "      <td>927174</td>\n",
       "      <td>https://www.tvmaze.com/episodes...</td>\n",
       "      <td>Contrapasso</td>\n",
       "      <td>1</td>\n",
       "      <td>5</td>\n",
       "      <td>regular</td>\n",
       "      <td>2016-10-30</td>\n",
       "      <td>21:00</td>\n",
       "      <td>60</td>\n",
       "      <td>8.0</td>\n",
       "      <td>Dolores takes the first step on...</td>\n",
       "      <td>https://static.tvmaze.com/uploa...</td>\n",
       "      <td>https://static.tvmaze.com/uploa...</td>\n",
       "    </tr>\n",
       "  </tbody>\n",
       "</table>\n",
       "</div>"
      ],
      "text/plain": [
       "       id                                 url               name  season  \\\n",
       "0  869671  https://www.tvmaze.com/episodes...       The Original       1   \n",
       "1  911201  https://www.tvmaze.com/episodes...           Chestnut       1   \n",
       "2  911204  https://www.tvmaze.com/episodes...          The Stray       1   \n",
       "3  911205  https://www.tvmaze.com/episodes...  Dissonance Theory       1   \n",
       "4  927174  https://www.tvmaze.com/episodes...        Contrapasso       1   \n",
       "\n",
       "   number     type     airdate airtime  runtime  rating  \\\n",
       "0       1  regular  2016-10-02   21:00       68     8.0   \n",
       "1       2  regular  2016-10-09   21:00       60     7.7   \n",
       "2       3  regular  2016-10-16   21:00       60     7.6   \n",
       "3       4  regular  2016-10-23   21:00       60     7.9   \n",
       "4       5  regular  2016-10-30   21:00       60     8.0   \n",
       "\n",
       "                              summary                        medium_image  \\\n",
       "0  A woman named Dolores is a free...  https://static.tvmaze.com/uploa...   \n",
       "1  Bernard suspects that someone i...  https://static.tvmaze.com/uploa...   \n",
       "2  Bernard continues to investigat...  https://static.tvmaze.com/uploa...   \n",
       "3  While Dolores joins William and...  https://static.tvmaze.com/uploa...   \n",
       "4  Dolores takes the first step on...  https://static.tvmaze.com/uploa...   \n",
       "\n",
       "                       original_image  \n",
       "0  https://static.tvmaze.com/uploa...  \n",
       "1  https://static.tvmaze.com/uploa...  \n",
       "2  https://static.tvmaze.com/uploa...  \n",
       "3  https://static.tvmaze.com/uploa...  \n",
       "4  https://static.tvmaze.com/uploa...  "
      ]
     },
     "execution_count": 26,
     "metadata": {},
     "output_type": "execute_result"
    }
   ],
   "source": [
    "df.head()"
   ]
  },
  {
   "attachments": {},
   "cell_type": "markdown",
   "id": "0223131f",
   "metadata": {},
   "source": [
    "## ● Get all the overall ratings for each season and using plots compare the ratings for all the seasons, like season 1 ratings, season 2, and so on."
   ]
  },
  {
   "cell_type": "code",
   "execution_count": 36,
   "id": "dadb84fd",
   "metadata": {},
   "outputs": [
    {
     "data": {
      "image/png": "[encoded data removed]",
      "text/plain": [
       "<Figure size 640x480 with 1 Axes>"
      ]
     },
     "metadata": {},
     "output_type": "display_data"
    }
   ],
   "source": [
    "season_ratings = df.groupby(\"season\")[\"rating\"].mean().sort_index()\n",
    "season_ratings.plot(kind=\"bar\")\n",
    "plt.xlabel(\"Season\")\n",
    "plt.ylabel(\"Average Rating\")\n",
    "plt.title(\"Average Rating for Each Season\")\n",
    "plt.show()"
   ]
  },
  {
   "attachments": {},
   "cell_type": "markdown",
   "id": "fbf78e0e",
   "metadata": {},
   "source": [
    "## ● Get all the episode names, whose average rating is more than 8 for every season"
   ]
  },
  {
   "cell_type": "code",
   "execution_count": 52,
   "id": "b04fe90f",
   "metadata": {},
   "outputs": [
    {
     "data": {
      "text/html": [
       "<div>\n",
       "<style scoped>\n",
       "    .dataframe tbody tr th:only-of-type {\n",
       "        vertical-align: middle;\n",
       "    }\n",
       "\n",
       "    .dataframe tbody tr th {\n",
       "        vertical-align: top;\n",
       "    }\n",
       "\n",
       "    .dataframe thead th {\n",
       "        text-align: right;\n",
       "    }\n",
       "</style>\n",
       "<table border=\"1\" class=\"dataframe\">\n",
       "  <thead>\n",
       "    <tr style=\"text-align: right;\">\n",
       "      <th></th>\n",
       "      <th>season</th>\n",
       "      <th>name</th>\n",
       "    </tr>\n",
       "  </thead>\n",
       "  <tbody>\n",
       "    <tr>\n",
       "      <th>6</th>\n",
       "      <td>1</td>\n",
       "      <td>Trompe L'Oeil</td>\n",
       "    </tr>\n",
       "    <tr>\n",
       "      <th>8</th>\n",
       "      <td>1</td>\n",
       "      <td>The Well-Tempered Clavier</td>\n",
       "    </tr>\n",
       "    <tr>\n",
       "      <th>9</th>\n",
       "      <td>1</td>\n",
       "      <td>The Bicameral Mind</td>\n",
       "    </tr>\n",
       "    <tr>\n",
       "      <th>17</th>\n",
       "      <td>2</td>\n",
       "      <td>Kiksuya</td>\n",
       "    </tr>\n",
       "    <tr>\n",
       "      <th>18</th>\n",
       "      <td>2</td>\n",
       "      <td>Vanishing Point</td>\n",
       "    </tr>\n",
       "    <tr>\n",
       "      <th>19</th>\n",
       "      <td>2</td>\n",
       "      <td>The Passenger</td>\n",
       "    </tr>\n",
       "  </tbody>\n",
       "</table>\n",
       "</div>"
      ],
      "text/plain": [
       "    season                       name\n",
       "6        1              Trompe L'Oeil\n",
       "8        1  The Well-Tempered Clavier\n",
       "9        1         The Bicameral Mind\n",
       "17       2                    Kiksuya\n",
       "18       2            Vanishing Point\n",
       "19       2              The Passenger"
      ]
     },
     "execution_count": 52,
     "metadata": {},
     "output_type": "execute_result"
    }
   ],
   "source": [
    "highly_rated_episodes = df.loc[df[\"rating\"] > 8, [\"season\", \"name\"]]\n",
    "highly_rated_episodes"
   ]
  },
  {
   "cell_type": "code",
   "execution_count": 53,
   "id": "54bc2bd5",
   "metadata": {},
   "outputs": [
    {
     "data": {
      "text/html": [
       "<div>\n",
       "<style scoped>\n",
       "    .dataframe tbody tr th:only-of-type {\n",
       "        vertical-align: middle;\n",
       "    }\n",
       "\n",
       "    .dataframe tbody tr th {\n",
       "        vertical-align: top;\n",
       "    }\n",
       "\n",
       "    .dataframe thead th {\n",
       "        text-align: right;\n",
       "    }\n",
       "</style>\n",
       "<table border=\"1\" class=\"dataframe\">\n",
       "  <thead>\n",
       "    <tr style=\"text-align: right;\">\n",
       "      <th></th>\n",
       "      <th>season</th>\n",
       "      <th>name</th>\n",
       "    </tr>\n",
       "  </thead>\n",
       "  <tbody>\n",
       "    <tr>\n",
       "      <th>0</th>\n",
       "      <td>1</td>\n",
       "      <td>Trompe L'Oeil, The Well-Tempered Clavier, The Bicameral Mind</td>\n",
       "    </tr>\n",
       "    <tr>\n",
       "      <th>1</th>\n",
       "      <td>2</td>\n",
       "      <td>Kiksuya, Vanishing Point, The Passenger</td>\n",
       "    </tr>\n",
       "  </tbody>\n",
       "</table>\n",
       "</div>"
      ],
      "text/plain": [
       "   season                                                          name\n",
       "0       1  Trompe L'Oeil, The Well-Tempered Clavier, The Bicameral Mind\n",
       "1       2                       Kiksuya, Vanishing Point, The Passenger"
      ]
     },
     "execution_count": 53,
     "metadata": {},
     "output_type": "execute_result"
    }
   ],
   "source": [
    "highly_rated_episodes.groupby(\"season\").agg(lambda x: \", \".join(x)).reset_index()"
   ]
  },
  {
   "attachments": {},
   "cell_type": "markdown",
   "id": "e4956af4",
   "metadata": {},
   "source": [
    "## ● Get all the episode names that aired before May 2019"
   ]
  },
  {
   "cell_type": "code",
   "execution_count": 57,
   "id": "17e5abc2",
   "metadata": {},
   "outputs": [
    {
     "data": {
      "text/plain": [
       "0                  The Original\n",
       "1                      Chestnut\n",
       "2                     The Stray\n",
       "3             Dissonance Theory\n",
       "4                   Contrapasso\n",
       "5                 The Adversary\n",
       "6                 Trompe L'Oeil\n",
       "7                   Trace Decay\n",
       "8     The Well-Tempered Clavier\n",
       "9            The Bicameral Mind\n",
       "10           Journey Into Night\n",
       "11                      Reunion\n",
       "12              Virtù e Fortuna\n",
       "13     The Riddle of the Sphinx\n",
       "14                 Akane No Mai\n",
       "15                  Phase Space\n",
       "16                 Les Écorchés\n",
       "17                      Kiksuya\n",
       "18              Vanishing Point\n",
       "19                The Passenger\n",
       "Name: name, dtype: object"
      ]
     },
     "execution_count": 57,
     "metadata": {},
     "output_type": "execute_result"
    }
   ],
   "source": [
    "early_episodes = df.loc[df[\"airdate\"] < \"2019-05-01\", \"name\"]\n",
    "early_episodes"
   ]
  },
  {
   "cell_type": "code",
   "execution_count": 56,
   "id": "c05b55e8",
   "metadata": {},
   "outputs": [
    {
     "name": "stdout",
     "output_type": "stream",
     "text": [
      "There are 20 episodes that aired before May 2019\n"
     ]
    }
   ],
   "source": [
    "print(f\"There are {early_episodes.shape[0]} episodes that aired before May 2019\")"
   ]
  },
  {
   "attachments": {},
   "cell_type": "markdown",
   "id": "74fe5246",
   "metadata": {},
   "source": [
    "## ● Get the episode name from each season with the highest and lowest rating"
   ]
  },
  {
   "cell_type": "code",
   "execution_count": 60,
   "id": "b66e4e90",
   "metadata": {},
   "outputs": [],
   "source": [
    "highest_rated_episodes = df.loc[df.groupby(\"season\")[\"rating\"].idxmax(), [\"season\", \"name\", \"rating\"]]\n",
    "lowest_rated_episodes = df.loc[df.groupby(\"season\")[\"rating\"].idxmin(), [\"season\", \"name\", \"rating\"]]"
   ]
  },
  {
   "cell_type": "code",
   "execution_count": 61,
   "id": "b106f9a5",
   "metadata": {},
   "outputs": [
    {
     "data": {
      "text/html": [
       "<div>\n",
       "<style scoped>\n",
       "    .dataframe tbody tr th:only-of-type {\n",
       "        vertical-align: middle;\n",
       "    }\n",
       "\n",
       "    .dataframe tbody tr th {\n",
       "        vertical-align: top;\n",
       "    }\n",
       "\n",
       "    .dataframe thead th {\n",
       "        text-align: right;\n",
       "    }\n",
       "</style>\n",
       "<table border=\"1\" class=\"dataframe\">\n",
       "  <thead>\n",
       "    <tr style=\"text-align: right;\">\n",
       "      <th></th>\n",
       "      <th>season</th>\n",
       "      <th>name</th>\n",
       "      <th>rating</th>\n",
       "    </tr>\n",
       "  </thead>\n",
       "  <tbody>\n",
       "    <tr>\n",
       "      <th>9</th>\n",
       "      <td>1</td>\n",
       "      <td>The Bicameral Mind</td>\n",
       "      <td>8.7</td>\n",
       "    </tr>\n",
       "    <tr>\n",
       "      <th>17</th>\n",
       "      <td>2</td>\n",
       "      <td>Kiksuya</td>\n",
       "      <td>8.7</td>\n",
       "    </tr>\n",
       "    <tr>\n",
       "      <th>20</th>\n",
       "      <td>3</td>\n",
       "      <td>Parce Domine</td>\n",
       "      <td>8.0</td>\n",
       "    </tr>\n",
       "    <tr>\n",
       "      <th>32</th>\n",
       "      <td>4</td>\n",
       "      <td>Zhuangzi</td>\n",
       "      <td>7.8</td>\n",
       "    </tr>\n",
       "  </tbody>\n",
       "</table>\n",
       "</div>"
      ],
      "text/plain": [
       "    season                name  rating\n",
       "9        1  The Bicameral Mind     8.7\n",
       "17       2             Kiksuya     8.7\n",
       "20       3        Parce Domine     8.0\n",
       "32       4            Zhuangzi     7.8"
      ]
     },
     "execution_count": 61,
     "metadata": {},
     "output_type": "execute_result"
    }
   ],
   "source": [
    "#Highest Rating Episodes\n",
    "highest_rated_episodes"
   ]
  },
  {
   "cell_type": "code",
   "execution_count": 62,
   "id": "dba44970",
   "metadata": {},
   "outputs": [
    {
     "data": {
      "text/html": [
       "<div>\n",
       "<style scoped>\n",
       "    .dataframe tbody tr th:only-of-type {\n",
       "        vertical-align: middle;\n",
       "    }\n",
       "\n",
       "    .dataframe tbody tr th {\n",
       "        vertical-align: top;\n",
       "    }\n",
       "\n",
       "    .dataframe thead th {\n",
       "        text-align: right;\n",
       "    }\n",
       "</style>\n",
       "<table border=\"1\" class=\"dataframe\">\n",
       "  <thead>\n",
       "    <tr style=\"text-align: right;\">\n",
       "      <th></th>\n",
       "      <th>season</th>\n",
       "      <th>name</th>\n",
       "      <th>rating</th>\n",
       "    </tr>\n",
       "  </thead>\n",
       "  <tbody>\n",
       "    <tr>\n",
       "      <th>2</th>\n",
       "      <td>1</td>\n",
       "      <td>The Stray</td>\n",
       "      <td>7.6</td>\n",
       "    </tr>\n",
       "    <tr>\n",
       "      <th>14</th>\n",
       "      <td>2</td>\n",
       "      <td>Akane No Mai</td>\n",
       "      <td>7.6</td>\n",
       "    </tr>\n",
       "    <tr>\n",
       "      <th>25</th>\n",
       "      <td>3</td>\n",
       "      <td>Decoherence</td>\n",
       "      <td>7.5</td>\n",
       "    </tr>\n",
       "    <tr>\n",
       "      <th>28</th>\n",
       "      <td>4</td>\n",
       "      <td>The Auguries</td>\n",
       "      <td>7.1</td>\n",
       "    </tr>\n",
       "  </tbody>\n",
       "</table>\n",
       "</div>"
      ],
      "text/plain": [
       "    season          name  rating\n",
       "2        1     The Stray     7.6\n",
       "14       2  Akane No Mai     7.6\n",
       "25       3   Decoherence     7.5\n",
       "28       4  The Auguries     7.1"
      ]
     },
     "execution_count": 62,
     "metadata": {},
     "output_type": "execute_result"
    }
   ],
   "source": [
    "#Lowest Rating Episodes\n",
    "lowest_rated_episodes"
   ]
  },
  {
   "attachments": {},
   "cell_type": "markdown",
   "id": "5bbc8027",
   "metadata": {},
   "source": [
    "## ● Get the summary for the most popular ( ratings ) episode in every season"
   ]
  },
  {
   "cell_type": "code",
   "execution_count": 63,
   "id": "55604c1e",
   "metadata": {},
   "outputs": [],
   "source": [
    "most_popular_episodes = df.loc[df.groupby(\"season\")[\"rating\"].idxmax(), [\"season\", \"name\", \"summary\"]]"
   ]
  },
  {
   "cell_type": "code",
   "execution_count": 64,
   "id": "fb45e6a8",
   "metadata": {},
   "outputs": [
    {
     "data": {
      "text/html": [
       "<div>\n",
       "<style scoped>\n",
       "    .dataframe tbody tr th:only-of-type {\n",
       "        vertical-align: middle;\n",
       "    }\n",
       "\n",
       "    .dataframe tbody tr th {\n",
       "        vertical-align: top;\n",
       "    }\n",
       "\n",
       "    .dataframe thead th {\n",
       "        text-align: right;\n",
       "    }\n",
       "</style>\n",
       "<table border=\"1\" class=\"dataframe\">\n",
       "  <thead>\n",
       "    <tr style=\"text-align: right;\">\n",
       "      <th></th>\n",
       "      <th>season</th>\n",
       "      <th>name</th>\n",
       "      <th>summary</th>\n",
       "    </tr>\n",
       "  </thead>\n",
       "  <tbody>\n",
       "    <tr>\n",
       "      <th>9</th>\n",
       "      <td>1</td>\n",
       "      <td>The Bicameral Mind</td>\n",
       "      <td>Delores finds out the truth about William's fate. Meanwhile, Maeve organizes an escape plan, only to discover that someone else is pulling the strings. And Robert plays the final piece in his grand narrative.</td>\n",
       "    </tr>\n",
       "    <tr>\n",
       "      <th>17</th>\n",
       "      <td>2</td>\n",
       "      <td>Kiksuya</td>\n",
       "      <td>Another of Westworld's Host revolutionaries is revealed. Meanwhile, Emily finds the Man and convinces the Ghost Nation to hand him over to her to ensure his suffering.</td>\n",
       "    </tr>\n",
       "    <tr>\n",
       "      <th>20</th>\n",
       "      <td>3</td>\n",
       "      <td>Parce Domine</td>\n",
       "      <td>If you're stuck in a loop, try walking in a straight line.</td>\n",
       "    </tr>\n",
       "    <tr>\n",
       "      <th>32</th>\n",
       "      <td>4</td>\n",
       "      <td>Zhuangzi</td>\n",
       "      <td>God is bored.</td>\n",
       "    </tr>\n",
       "  </tbody>\n",
       "</table>\n",
       "</div>"
      ],
      "text/plain": [
       "    season                name  \\\n",
       "9        1  The Bicameral Mind   \n",
       "17       2             Kiksuya   \n",
       "20       3        Parce Domine   \n",
       "32       4            Zhuangzi   \n",
       "\n",
       "                                                                                                                                                                                                             summary  \n",
       "9   Delores finds out the truth about William's fate. Meanwhile, Maeve organizes an escape plan, only to discover that someone else is pulling the strings. And Robert plays the final piece in his grand narrative.  \n",
       "17                                           Another of Westworld's Host revolutionaries is revealed. Meanwhile, Emily finds the Man and convinces the Ghost Nation to hand him over to her to ensure his suffering.  \n",
       "20                                                                                                                                                        If you're stuck in a loop, try walking in a straight line.  \n",
       "32                                                                                                                                                                                                     God is bored.  "
      ]
     },
     "execution_count": 64,
     "metadata": {},
     "output_type": "execute_result"
    }
   ],
   "source": [
    "most_popular_episodes"
   ]
  }
 ],
 "metadata": {
  "kernelspec": {
   "display_name": "Python 3 (ipykernel)",
   "language": "python",
   "name": "python3"
  },
  "language_info": {
   "codemirror_mode": {
    "name": "ipython",
    "version": 3
   },
   "file_extension": ".py",
   "mimetype": "text/x-python",
   "name": "python",
   "nbconvert_exporter": "python",
   "pygments_lexer": "ipython3",
   "version": "3.9.13"
  }
 },
 "nbformat": 4,
 "nbformat_minor": 5
}
