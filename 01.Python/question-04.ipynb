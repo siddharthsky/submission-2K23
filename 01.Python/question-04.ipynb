{
 "cells": [
  {
   "cell_type": "code",
   "execution_count": null,
   "id": "a765702a-b9c4-4812-8b5a-2c90d9693855",
   "metadata": {},
   "outputs": [],
   "source": [
    "Question 4 -\n",
    "Write a program to download the data from the link given below and then read the data and convert the into\n",
    "the proper structure and return it as a CSV file.\n",
    "Link - https://data.nasa.gov/resource/y77d-th95.json\n",
    "Note - Write code comments wherever needed for code understanding."
   ]
  },
  {
   "cell_type": "code",
   "execution_count": null,
   "id": "5451b292-58d6-49d8-b134-2647200216ad",
   "metadata": {},
   "outputs": [],
   "source": [
    "Excepted Output Data Attributes\n",
    "Name of Earth Meteorite - string \n",
    "id - ID of Earth\n",
    "Meteorite - int \n",
    "nametype - string \n",
    "recclass - string\n",
    "mass - Mass of Earth Meteorite - float \n",
    "year - Year at which Earth Meteorite was hit - datetime format \n",
    "reclat - float \n",
    "recclong - float \n",
    "point coordinates - list of int"
   ]
  },
  {
   "cell_type": "code",
   "execution_count": 3,
   "id": "9708ecd3-2bd4-4a27-b0a8-1a004b3f1802",
   "metadata": {},
   "outputs": [],
   "source": [
    "#Start"
   ]
  },
  {
   "cell_type": "code",
   "execution_count": 1,
   "id": "21fb7c27-3629-4fab-b9a2-24413e650d12",
   "metadata": {},
   "outputs": [],
   "source": [
    "#Imports\n",
    "import pandas as pd\n",
    "import numpy as np\n",
    "import json\n",
    "import requests"
   ]
  },
  {
   "cell_type": "code",
   "execution_count": 2,
   "id": "15f16a31-6404-425f-9526-9151900e7bad",
   "metadata": {},
   "outputs": [],
   "source": [
    "#URL for data\n",
    "url = \"https://data.nasa.gov/resource/y77d-th95.json\""
   ]
  },
  {
   "cell_type": "code",
   "execution_count": 3,
   "id": "b548a63f-471a-474d-8ac6-bda4baaa642b",
   "metadata": {},
   "outputs": [
    {
     "data": {
      "text/plain": [
       "245975"
      ]
     },
     "execution_count": 3,
     "metadata": {},
     "output_type": "execute_result"
    }
   ],
   "source": [
    "#Downloading the dataset \n",
    "file01 = requests.get(url)\n",
    "open(\"data/nasa.json\", \"wb\").write(file01.content)"
   ]
  },
  {
   "cell_type": "code",
   "execution_count": 4,
   "id": "e0230867-9875-460c-bb07-42da4ad56150",
   "metadata": {},
   "outputs": [],
   "source": [
    "#Loading dataset in memory\n",
    "with open (\"data/nasa.json\",\"r\") as f:\n",
    "    data = json.loads(f.read())"
   ]
  },
  {
   "cell_type": "code",
   "execution_count": 5,
   "id": "186430d4-83a2-4607-9b83-2a4c423f4d74",
   "metadata": {},
   "outputs": [],
   "source": [
    "#using JSON normalizer to make dataframe in proper format\n",
    "df =pd.json_normalize(data)"
   ]
  },
  {
   "cell_type": "code",
   "execution_count": 6,
   "id": "d91d36f3-9d50-4f4b-a994-815016752a13",
   "metadata": {},
   "outputs": [
    {
     "data": {
      "text/html": [
       "<div>\n",
       "<style scoped>\n",
       "    .dataframe tbody tr th:only-of-type {\n",
       "        vertical-align: middle;\n",
       "    }\n",
       "\n",
       "    .dataframe tbody tr th {\n",
       "        vertical-align: top;\n",
       "    }\n",
       "\n",
       "    .dataframe thead th {\n",
       "        text-align: right;\n",
       "    }\n",
       "</style>\n",
       "<table border=\"1\" class=\"dataframe\">\n",
       "  <thead>\n",
       "    <tr style=\"text-align: right;\">\n",
       "      <th></th>\n",
       "      <th>name</th>\n",
       "      <th>id</th>\n",
       "      <th>nametype</th>\n",
       "      <th>recclass</th>\n",
       "      <th>mass</th>\n",
       "      <th>fall</th>\n",
       "      <th>year</th>\n",
       "      <th>reclat</th>\n",
       "      <th>reclong</th>\n",
       "      <th>geolocation.type</th>\n",
       "      <th>geolocation.coordinates</th>\n",
       "      <th>:@computed_region_cbhk_fwbd</th>\n",
       "      <th>:@computed_region_nnqa_25f4</th>\n",
       "    </tr>\n",
       "  </thead>\n",
       "  <tbody>\n",
       "    <tr>\n",
       "      <th>0</th>\n",
       "      <td>Aachen</td>\n",
       "      <td>1</td>\n",
       "      <td>Valid</td>\n",
       "      <td>L5</td>\n",
       "      <td>21</td>\n",
       "      <td>Fell</td>\n",
       "      <td>1880-01-01T00:00:00.000</td>\n",
       "      <td>50.775000</td>\n",
       "      <td>6.083330</td>\n",
       "      <td>Point</td>\n",
       "      <td>[6.08333, 50.775]</td>\n",
       "      <td>NaN</td>\n",
       "      <td>NaN</td>\n",
       "    </tr>\n",
       "    <tr>\n",
       "      <th>1</th>\n",
       "      <td>Aarhus</td>\n",
       "      <td>2</td>\n",
       "      <td>Valid</td>\n",
       "      <td>H6</td>\n",
       "      <td>720</td>\n",
       "      <td>Fell</td>\n",
       "      <td>1951-01-01T00:00:00.000</td>\n",
       "      <td>56.183330</td>\n",
       "      <td>10.233330</td>\n",
       "      <td>Point</td>\n",
       "      <td>[10.23333, 56.18333]</td>\n",
       "      <td>NaN</td>\n",
       "      <td>NaN</td>\n",
       "    </tr>\n",
       "    <tr>\n",
       "      <th>2</th>\n",
       "      <td>Abee</td>\n",
       "      <td>6</td>\n",
       "      <td>Valid</td>\n",
       "      <td>EH4</td>\n",
       "      <td>107000</td>\n",
       "      <td>Fell</td>\n",
       "      <td>1952-01-01T00:00:00.000</td>\n",
       "      <td>54.216670</td>\n",
       "      <td>-113.000000</td>\n",
       "      <td>Point</td>\n",
       "      <td>[-113, 54.21667]</td>\n",
       "      <td>NaN</td>\n",
       "      <td>NaN</td>\n",
       "    </tr>\n",
       "    <tr>\n",
       "      <th>3</th>\n",
       "      <td>Acapulco</td>\n",
       "      <td>10</td>\n",
       "      <td>Valid</td>\n",
       "      <td>Acapulcoite</td>\n",
       "      <td>1914</td>\n",
       "      <td>Fell</td>\n",
       "      <td>1976-01-01T00:00:00.000</td>\n",
       "      <td>16.883330</td>\n",
       "      <td>-99.900000</td>\n",
       "      <td>Point</td>\n",
       "      <td>[-99.9, 16.88333]</td>\n",
       "      <td>NaN</td>\n",
       "      <td>NaN</td>\n",
       "    </tr>\n",
       "    <tr>\n",
       "      <th>4</th>\n",
       "      <td>Achiras</td>\n",
       "      <td>370</td>\n",
       "      <td>Valid</td>\n",
       "      <td>L6</td>\n",
       "      <td>780</td>\n",
       "      <td>Fell</td>\n",
       "      <td>1902-01-01T00:00:00.000</td>\n",
       "      <td>-33.166670</td>\n",
       "      <td>-64.950000</td>\n",
       "      <td>Point</td>\n",
       "      <td>[-64.95, -33.16667]</td>\n",
       "      <td>NaN</td>\n",
       "      <td>NaN</td>\n",
       "    </tr>\n",
       "  </tbody>\n",
       "</table>\n",
       "</div>"
      ],
      "text/plain": [
       "       name   id nametype     recclass    mass  fall                     year   \n",
       "0    Aachen    1    Valid           L5      21  Fell  1880-01-01T00:00:00.000  \\\n",
       "1    Aarhus    2    Valid           H6     720  Fell  1951-01-01T00:00:00.000   \n",
       "2      Abee    6    Valid          EH4  107000  Fell  1952-01-01T00:00:00.000   \n",
       "3  Acapulco   10    Valid  Acapulcoite    1914  Fell  1976-01-01T00:00:00.000   \n",
       "4   Achiras  370    Valid           L6     780  Fell  1902-01-01T00:00:00.000   \n",
       "\n",
       "       reclat      reclong geolocation.type geolocation.coordinates   \n",
       "0   50.775000     6.083330            Point       [6.08333, 50.775]  \\\n",
       "1   56.183330    10.233330            Point    [10.23333, 56.18333]   \n",
       "2   54.216670  -113.000000            Point        [-113, 54.21667]   \n",
       "3   16.883330   -99.900000            Point       [-99.9, 16.88333]   \n",
       "4  -33.166670   -64.950000            Point     [-64.95, -33.16667]   \n",
       "\n",
       "  :@computed_region_cbhk_fwbd :@computed_region_nnqa_25f4  \n",
       "0                         NaN                         NaN  \n",
       "1                         NaN                         NaN  \n",
       "2                         NaN                         NaN  \n",
       "3                         NaN                         NaN  \n",
       "4                         NaN                         NaN  "
      ]
     },
     "execution_count": 6,
     "metadata": {},
     "output_type": "execute_result"
    }
   ],
   "source": [
    "#Initial data preview\n",
    "df.head()"
   ]
  },
  {
   "cell_type": "code",
   "execution_count": 7,
   "id": "c62172b4-b19b-4245-ad86-d9af6d33a09b",
   "metadata": {},
   "outputs": [],
   "source": [
    "#Removing the last 2 columns as they are having NaN values\n",
    "df = df.drop(df.iloc[:,-2:],axis=1)"
   ]
  },
  {
   "cell_type": "code",
   "execution_count": 8,
   "id": "743e01a1-c333-4cf3-ba90-430cc1752e1e",
   "metadata": {},
   "outputs": [],
   "source": [
    "#Making a dictonary for each column \n",
    "data_types = {'name': str, 'id': int, 'nametype': str, 'recclass': str, 'mass': float,'fall': str, 'year': str, 'reclat': float, 'reclong': float, 'geolocation.type': str, 'geolocation.coordinates': str}"
   ]
  },
  {
   "cell_type": "code",
   "execution_count": 9,
   "id": "e05579be-f883-4fa1-aab8-f3544c19005d",
   "metadata": {},
   "outputs": [],
   "source": [
    "#Converting the data types\n",
    "df = df.astype(data_types)"
   ]
  },
  {
   "cell_type": "code",
   "execution_count": 10,
   "id": "668b16cf-8d58-495e-ad03-5d473347b443",
   "metadata": {},
   "outputs": [],
   "source": [
    "#COnverting the YEAR column to datatime format\n",
    "df[\"year\"]=pd.to_datetime(df[\"year\"],errors = 'coerce')"
   ]
  },
  {
   "cell_type": "code",
   "execution_count": 11,
   "id": "6b38105c-72b9-4965-a82f-4e0abd142d44",
   "metadata": {},
   "outputs": [
    {
     "name": "stdout",
     "output_type": "stream",
     "text": [
      "<class 'pandas.core.frame.DataFrame'>\n",
      "RangeIndex: 1000 entries, 0 to 999\n",
      "Data columns (total 11 columns):\n",
      " #   Column                   Non-Null Count  Dtype         \n",
      "---  ------                   --------------  -----         \n",
      " 0   name                     1000 non-null   object        \n",
      " 1   id                       1000 non-null   int64         \n",
      " 2   nametype                 1000 non-null   object        \n",
      " 3   recclass                 1000 non-null   object        \n",
      " 4   mass                     972 non-null    float64       \n",
      " 5   fall                     1000 non-null   object        \n",
      " 6   year                     982 non-null    datetime64[ns]\n",
      " 7   reclat                   988 non-null    float64       \n",
      " 8   reclong                  988 non-null    float64       \n",
      " 9   geolocation.type         1000 non-null   object        \n",
      " 10  geolocation.coordinates  1000 non-null   object        \n",
      "dtypes: datetime64[ns](1), float64(3), int64(1), object(6)\n",
      "memory usage: 86.1+ KB\n"
     ]
    }
   ],
   "source": [
    "#Checking data types\n",
    "df.info()"
   ]
  },
  {
   "cell_type": "code",
   "execution_count": 12,
   "id": "3077fe07-4b1e-491f-a0d2-2e5a3be6494f",
   "metadata": {},
   "outputs": [
    {
     "data": {
      "text/html": [
       "<div>\n",
       "<style scoped>\n",
       "    .dataframe tbody tr th:only-of-type {\n",
       "        vertical-align: middle;\n",
       "    }\n",
       "\n",
       "    .dataframe tbody tr th {\n",
       "        vertical-align: top;\n",
       "    }\n",
       "\n",
       "    .dataframe thead th {\n",
       "        text-align: right;\n",
       "    }\n",
       "</style>\n",
       "<table border=\"1\" class=\"dataframe\">\n",
       "  <thead>\n",
       "    <tr style=\"text-align: right;\">\n",
       "      <th></th>\n",
       "      <th>name</th>\n",
       "      <th>id</th>\n",
       "      <th>nametype</th>\n",
       "      <th>recclass</th>\n",
       "      <th>mass</th>\n",
       "      <th>fall</th>\n",
       "      <th>year</th>\n",
       "      <th>reclat</th>\n",
       "      <th>reclong</th>\n",
       "      <th>geolocation.type</th>\n",
       "      <th>geolocation.coordinates</th>\n",
       "    </tr>\n",
       "  </thead>\n",
       "  <tbody>\n",
       "    <tr>\n",
       "      <th>0</th>\n",
       "      <td>Aachen</td>\n",
       "      <td>1</td>\n",
       "      <td>Valid</td>\n",
       "      <td>L5</td>\n",
       "      <td>21.0</td>\n",
       "      <td>Fell</td>\n",
       "      <td>1880-01-01</td>\n",
       "      <td>50.77500</td>\n",
       "      <td>6.08333</td>\n",
       "      <td>Point</td>\n",
       "      <td>[6.08333, 50.775]</td>\n",
       "    </tr>\n",
       "    <tr>\n",
       "      <th>1</th>\n",
       "      <td>Aarhus</td>\n",
       "      <td>2</td>\n",
       "      <td>Valid</td>\n",
       "      <td>H6</td>\n",
       "      <td>720.0</td>\n",
       "      <td>Fell</td>\n",
       "      <td>1951-01-01</td>\n",
       "      <td>56.18333</td>\n",
       "      <td>10.23333</td>\n",
       "      <td>Point</td>\n",
       "      <td>[10.23333, 56.18333]</td>\n",
       "    </tr>\n",
       "    <tr>\n",
       "      <th>2</th>\n",
       "      <td>Abee</td>\n",
       "      <td>6</td>\n",
       "      <td>Valid</td>\n",
       "      <td>EH4</td>\n",
       "      <td>107000.0</td>\n",
       "      <td>Fell</td>\n",
       "      <td>1952-01-01</td>\n",
       "      <td>54.21667</td>\n",
       "      <td>-113.00000</td>\n",
       "      <td>Point</td>\n",
       "      <td>[-113, 54.21667]</td>\n",
       "    </tr>\n",
       "    <tr>\n",
       "      <th>3</th>\n",
       "      <td>Acapulco</td>\n",
       "      <td>10</td>\n",
       "      <td>Valid</td>\n",
       "      <td>Acapulcoite</td>\n",
       "      <td>1914.0</td>\n",
       "      <td>Fell</td>\n",
       "      <td>1976-01-01</td>\n",
       "      <td>16.88333</td>\n",
       "      <td>-99.90000</td>\n",
       "      <td>Point</td>\n",
       "      <td>[-99.9, 16.88333]</td>\n",
       "    </tr>\n",
       "    <tr>\n",
       "      <th>4</th>\n",
       "      <td>Achiras</td>\n",
       "      <td>370</td>\n",
       "      <td>Valid</td>\n",
       "      <td>L6</td>\n",
       "      <td>780.0</td>\n",
       "      <td>Fell</td>\n",
       "      <td>1902-01-01</td>\n",
       "      <td>-33.16667</td>\n",
       "      <td>-64.95000</td>\n",
       "      <td>Point</td>\n",
       "      <td>[-64.95, -33.16667]</td>\n",
       "    </tr>\n",
       "  </tbody>\n",
       "</table>\n",
       "</div>"
      ],
      "text/plain": [
       "       name   id nametype     recclass      mass  fall       year    reclat   \n",
       "0    Aachen    1    Valid           L5      21.0  Fell 1880-01-01  50.77500  \\\n",
       "1    Aarhus    2    Valid           H6     720.0  Fell 1951-01-01  56.18333   \n",
       "2      Abee    6    Valid          EH4  107000.0  Fell 1952-01-01  54.21667   \n",
       "3  Acapulco   10    Valid  Acapulcoite    1914.0  Fell 1976-01-01  16.88333   \n",
       "4   Achiras  370    Valid           L6     780.0  Fell 1902-01-01 -33.16667   \n",
       "\n",
       "     reclong geolocation.type geolocation.coordinates  \n",
       "0    6.08333            Point       [6.08333, 50.775]  \n",
       "1   10.23333            Point    [10.23333, 56.18333]  \n",
       "2 -113.00000            Point        [-113, 54.21667]  \n",
       "3  -99.90000            Point       [-99.9, 16.88333]  \n",
       "4  -64.95000            Point     [-64.95, -33.16667]  "
      ]
     },
     "execution_count": 12,
     "metadata": {},
     "output_type": "execute_result"
    }
   ],
   "source": [
    "#Checking data values\n",
    "df.head()"
   ]
  },
  {
   "cell_type": "code",
   "execution_count": 15,
   "id": "ca5c33d1-5653-44f0-9cfa-77dae7a20dd9",
   "metadata": {},
   "outputs": [],
   "source": [
    "#Export to CSV\n",
    "df.to_csv(\"data/nasa.csv\")"
   ]
  },
  {
   "cell_type": "code",
   "execution_count": null,
   "id": "5246d251-b280-4b58-b3bf-d70f63a994a4",
   "metadata": {},
   "outputs": [],
   "source": []
  }
 ],
 "metadata": {
  "kernelspec": {
   "display_name": "Python 3 (ipykernel)",
   "language": "python",
   "name": "python3"
  },
  "language_info": {
   "codemirror_mode": {
    "name": "ipython",
    "version": 3
   },
   "file_extension": ".py",
   "mimetype": "text/x-python",
   "name": "python",
   "nbconvert_exporter": "python",
   "pygments_lexer": "ipython3",
   "version": "3.9.2"
  }
 },
 "nbformat": 4,
 "nbformat_minor": 5
}
